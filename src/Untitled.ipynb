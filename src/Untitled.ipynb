{
 "cells": [
  {
   "cell_type": "code",
   "execution_count": 10,
   "id": "df180656",
   "metadata": {},
   "outputs": [],
   "source": [
    "import os\n",
    "import warnings\n",
    "warnings.filterwarnings('ignore')"
   ]
  },
  {
   "cell_type": "code",
   "execution_count": 11,
   "id": "f797fefc",
   "metadata": {
    "scrolled": true
   },
   "outputs": [
    {
     "name": "stdout",
     "output_type": "stream",
     "text": [
      "['ajwa', 'galaxy', 'medjool', 'meneifi', 'model', 'nabtatAli', 'README.md', 'rutab', 'shaishe', 'sokari', 'sugaey']\n"
     ]
    }
   ],
   "source": [
    "# Get all the paths\n",
    "data_dir_list = os.listdir('../data')\n",
    "print(data_dir_list)\n",
    "path, dirs, files = next(os.walk(\"../data\"))\n",
    "file_count = len(files)\n",
    "# print(file_count)"
   ]
  },
  {
   "cell_type": "code",
   "execution_count": 12,
   "id": "b1abe947",
   "metadata": {},
   "outputs": [
    {
     "ename": "FileExistsError",
     "evalue": "[WinError 183] Cannot create a file when that file already exists: '../data/model/'",
     "output_type": "error",
     "traceback": [
      "\u001b[1;31m---------------------------------------------------------------------------\u001b[0m",
      "\u001b[1;31mFileExistsError\u001b[0m                           Traceback (most recent call last)",
      "Cell \u001b[1;32mIn [12], line 4\u001b[0m\n\u001b[0;32m      2\u001b[0m original_dataset_dir \u001b[38;5;241m=\u001b[39m \u001b[38;5;124m'\u001b[39m\u001b[38;5;124m../data\u001b[39m\u001b[38;5;124m'\u001b[39m\n\u001b[0;32m      3\u001b[0m base_dir \u001b[38;5;241m=\u001b[39m \u001b[38;5;124m'\u001b[39m\u001b[38;5;124m../data/model/\u001b[39m\u001b[38;5;124m'\u001b[39m\n\u001b[1;32m----> 4\u001b[0m \u001b[43mos\u001b[49m\u001b[38;5;241;43m.\u001b[39;49m\u001b[43mmkdir\u001b[49m\u001b[43m(\u001b[49m\u001b[43mbase_dir\u001b[49m\u001b[43m)\u001b[49m\n",
      "\u001b[1;31mFileExistsError\u001b[0m: [WinError 183] Cannot create a file when that file already exists: '../data/model/'"
     ]
    }
   ],
   "source": [
    "# Make new base directory\n",
    "original_dataset_dir = '../data'\n",
    "base_dir = '../data/model/'\n",
    "os.mkdir(base_dir)"
   ]
  },
  {
   "cell_type": "code",
   "execution_count": 13,
   "id": "c3231999",
   "metadata": {},
   "outputs": [
    {
     "ename": "FileExistsError",
     "evalue": "[WinError 183] Cannot create a file when that file already exists: '../data/model/train'",
     "output_type": "error",
     "traceback": [
      "\u001b[1;31m---------------------------------------------------------------------------\u001b[0m",
      "\u001b[1;31mFileExistsError\u001b[0m                           Traceback (most recent call last)",
      "Cell \u001b[1;32mIn [13], line 3\u001b[0m\n\u001b[0;32m      1\u001b[0m \u001b[38;5;66;03m#create two folders (train and validation)\u001b[39;00m\n\u001b[0;32m      2\u001b[0m train_dir \u001b[38;5;241m=\u001b[39m os\u001b[38;5;241m.\u001b[39mpath\u001b[38;5;241m.\u001b[39mjoin(base_dir, \u001b[38;5;124m'\u001b[39m\u001b[38;5;124mtrain\u001b[39m\u001b[38;5;124m'\u001b[39m)\n\u001b[1;32m----> 3\u001b[0m \u001b[43mos\u001b[49m\u001b[38;5;241;43m.\u001b[39;49m\u001b[43mmkdir\u001b[49m\u001b[43m(\u001b[49m\u001b[43mtrain_dir\u001b[49m\u001b[43m)\u001b[49m\n\u001b[0;32m      5\u001b[0m validation_dir \u001b[38;5;241m=\u001b[39m os\u001b[38;5;241m.\u001b[39mpath\u001b[38;5;241m.\u001b[39mjoin(base_dir, \u001b[38;5;124m'\u001b[39m\u001b[38;5;124mvalidation\u001b[39m\u001b[38;5;124m'\u001b[39m)\n\u001b[0;32m      6\u001b[0m os\u001b[38;5;241m.\u001b[39mmkdir(validation_dir)\n",
      "\u001b[1;31mFileExistsError\u001b[0m: [WinError 183] Cannot create a file when that file already exists: '../data/model/train'"
     ]
    }
   ],
   "source": [
    "#create two folders (train and validation)\n",
    "train_dir = os.path.join(base_dir, 'train')\n",
    "os.mkdir(train_dir)\n",
    "\n",
    "validation_dir = os.path.join(base_dir, 'validation')\n",
    "os.mkdir(validation_dir)"
   ]
  },
  {
   "cell_type": "code",
   "execution_count": null,
   "id": "e6d49f5f",
   "metadata": {},
   "outputs": [],
   "source": [
    "#Under train folder create nine folders \n",
    "\n",
    "train_ajwa_dir = os.path.join(train_dir, 'ajwa')\n",
    "os.mkdir(train_ajwa_dir)\n",
    "\n",
    "train_galaxy_dir = os.path.join(train_dir, 'galaxy')\n",
    "os.mkdir(train_galaxy_dir)\n",
    "\n",
    "train_mejdool_dir = os.path.join(train_dir, 'mejdool')\n",
    "os.mkdir(train_mejdool_dir)\n",
    "\n",
    "train_meneifi_dir = os.path.join(train_dir, 'meneifi')\n",
    "os.mkdir(train_meneifi_dir)\n",
    "\n",
    "train_nabatAli_dir = os.path.join(train_dir, 'nabatAli')\n",
    "os.mkdir(train_nabatAli_dir)\n",
    "\n",
    "train_rutab_dir = os.path.join(train_dir, 'rutab')\n",
    "os.mkdir(train_rutab_dir)\n",
    "\n",
    "train_shaishe_dir = os.path.join(train_dir, 'shaishe')\n",
    "os.mkdir(train_shaishe_dir)\n",
    "\n",
    "train_sokari_dir = os.path.join(train_dir, 'sokari')\n",
    "os.mkdir(train_sokari_dir)\n",
    "\n",
    "train_sugaey_dir = os.path.join(train_dir, 'sugaey')\n",
    "os.mkdir(train_sugaey_dir)\n"
   ]
  },
  {
   "cell_type": "code",
   "execution_count": null,
   "id": "edb97965",
   "metadata": {},
   "outputs": [],
   "source": [
    "#Under validation folder create nine folders\n",
    "\n",
    "validation_ajwa_dir = os.path.join(validation_dir, 'ajwa')\n",
    "os.mkdir(validation_ajwa_dir)\n",
    "\n",
    "validation_galaxy_dir = os.path.join(validation_dir, 'galaxy')\n",
    "os.mkdir(validation_galaxy_dir)\n",
    "\n",
    "validation_mejdool_dir = os.path.join(validation_dir, 'mejdool')\n",
    "os.mkdir(validation_mejdool_dir)\n",
    "\n",
    "validation_meneifi_dir = os.path.join(validation_dir, 'meneifi')\n",
    "os.mkdir(validation_meneifi_dir)\n",
    "\n",
    "validation_nabatAli_dir = os.path.join(validation_dir, 'nabatAli')\n",
    "os.mkdir(validation_nabatAli_dir)\n",
    "\n",
    "validation_rutab_dir = os.path.join(validation_dir, 'rutab')\n",
    "os.mkdir(validation_rutab_dir)\n",
    "\n",
    "validation_shaishe_dir = os.path.join(validation_dir, 'shaishe')\n",
    "os.mkdir(validation_shaishe_dir)\n",
    "\n",
    "validation_sokari_dir = os.path.join(validation_dir, 'sokari')\n",
    "os.mkdir(validation_sokari_dir)\n",
    "\n",
    "validation_sugaey_dir = os.path.join(validation_dir, 'sugaey')\n",
    "os.mkdir(validation_sugaey_dir)\n"
   ]
  },
  {
   "cell_type": "code",
   "execution_count": null,
   "id": "f4dcc71d",
   "metadata": {},
   "outputs": [],
   "source": [
    "def split_data(SOURCE, TRAINING, VALIDATION, SPLIT_SIZE):\n",
    "    files = []\n",
    "    for filename in os.listdir(SOURCE):\n",
    "        file = SOURCE + filename\n",
    "        if os.path.getsize(file) > 0:\n",
    "            files.append(filename)\n",
    "        else:\n",
    "            print(filename + \" is zero length, so ignoring.\")\n",
    "\n",
    "    training_length = int(len(files) * SPLIT_SIZE)\n",
    "    valid_length = int(len(files) - training_length)\n",
    "    shuffled_set = random.sample(files, len(files))\n",
    "    training_set = shuffled_set[0:training_length]\n",
    "    valid_set = shuffled_set[training_length:]\n",
    "\n",
    "    for filename in training_set:\n",
    "        this_file = SOURCE + filename\n",
    "        destination = TRAINING + filename\n",
    "        copyfile(this_file, destination)\n",
    "\n",
    "    for filename in valid_set:\n",
    "        this_file = SOURCE + filename\n",
    "        destination = VALIDATION + filename\n",
    "        copyfile(this_file, destination)"
   ]
  },
  {
   "cell_type": "code",
   "execution_count": null,
   "id": "dcec8df4",
   "metadata": {},
   "outputs": [],
   "source": [
    "ajwa_SOURCE_DIR = '../data/ajwa/'\n",
    "TRAINING_ajwa_DIR = '../data/model/train/ajwa/'\n",
    "VALID_ajwa_DIR = '../data/model/validation/ajwa/'\n",
    "\n",
    "galaxy_SOURCE_DIR = '../data/galaxy/'\n",
    "TRAINING_galaxy_DIR = '../data/model/train/galaxy/'\n",
    "VALID_galaxy_DIR = '../data/model/validation/galaxy/'\n",
    "\n",
    "medjool_SOURCE_DIR = '../data/medjool/'\n",
    "TRAINING_medjool_DIR = '../data/model/train/medjool/'\n",
    "VALID_medjool_DIR = '../data/model/validation/medjool/'\n",
    "\n",
    "meneifi_SOURCE_DIR = '../data/meneifi/'\n",
    "TRAINING_meneifi_DIR = '../data/model/train/meneifi/'\n",
    "VALID_meneifi_DIR = '../data/model/validation/meneifi/'\n",
    "\n",
    "nabtatAli_SOURCE_DIR = '../data/nabtatAli/'\n",
    "TRAINING_nabtatAli_DIR = '../data/model/train/nabtatAli/'\n",
    "VALID_nabtatAli_DIR = '../data/model/validation/nabtatAli/'\n",
    "\n",
    "rutab_SOURCE_DIR = '../data/rutab/'\n",
    "TRAINING_rutab_DIR = '../data/model/train/rutab/'\n",
    "VALID_rutab_DIR = '../data/model/validation/rutab/'\n",
    "\n",
    "shaishe_SOURCE_DIR = '../data/shaishe/'\n",
    "TRAINING_shaishe_DIR = '../data/model/train/shaishe/'\n",
    "VALID_shaishe_DIR = '../data/model/validation/shaishe/'\n",
    "\n",
    "sokari_SOURCE_DIR = '../data/sokari/'\n",
    "TRAINING_sokari_DIR = '../data/model/train/sokari/'\n",
    "VALID_sokari_DIR = '../data/model/validation/sokari/'\n",
    "\n",
    "sugaey_SOURCE_DIR = '../data/sugaey/'\n",
    "TRAINING_sugaey_DIR = '../data/model/train/sugaey/'\n",
    "VALID_sugaey_DIR = '../data/model/validation/sugaey/'\n"
   ]
  },
  {
   "cell_type": "code",
   "execution_count": null,
   "id": "1d014456",
   "metadata": {},
   "outputs": [],
   "source": [
    "import random\n",
    "from shutil import copyfile\n",
    "\n",
    "split_size = .85\n",
    "\n",
    "split_data(ajwa_SOURCE_DIR, TRAINING_ajwa_DIR, VALID_ajwa_DIR, split_size)\n",
    "split_data(galaxy_SOURCE_DIR, TRAINING_galaxy_DIR, VALID_galaxy_DIR, split_size)\n",
    "split_data(medjool_SOURCE_DIR, TRAINING_medjool_DIR, VALID_medjool_DIR, split_size)\n",
    "split_data(meneifi_SOURCE_DIR, TRAINING_meneifi_DIR, VALID_meneifi_DIR, split_size)\n",
    "split_data(nabtatAli_SOURCE_DIR, TRAINING_nabtatAli_DIR, VALID_nabtatAli_DIR, split_size)\n",
    "split_data(rutab_SOURCE_DIR, TRAINING_rutab_DIR, VALID_rutab_DIR, split_size)\n",
    "split_data(shaishe_SOURCE_DIR, TRAINING_shaishe_DIR, VALID_shaishe_DIR, split_size)\n",
    "split_data(sokari_SOURCE_DIR, TRAINING_sokari_DIR, VALID_sokari_DIR, split_size)\n",
    "split_data(sugaey_SOURCE_DIR, TRAINING_sugaey_DIR, VALID_sugaey_DIR, split_size)\n",
    "\n"
   ]
  },
  {
   "cell_type": "code",
   "execution_count": null,
   "id": "83aad6c7",
   "metadata": {},
   "outputs": [],
   "source": []
  },
  {
   "cell_type": "code",
   "execution_count": null,
   "id": "bb765370",
   "metadata": {},
   "outputs": [],
   "source": []
  },
  {
   "cell_type": "code",
   "execution_count": null,
   "id": "b7307715",
   "metadata": {},
   "outputs": [],
   "source": []
  },
  {
   "cell_type": "code",
   "execution_count": null,
   "id": "78ff8029",
   "metadata": {},
   "outputs": [],
   "source": []
  },
  {
   "cell_type": "code",
   "execution_count": null,
   "id": "17e34b61",
   "metadata": {},
   "outputs": [],
   "source": []
  }
 ],
 "metadata": {
  "kernelspec": {
   "display_name": "Python 3 (ipykernel)",
   "language": "python",
   "name": "python3"
  },
  "language_info": {
   "codemirror_mode": {
    "name": "ipython",
    "version": 3
   },
   "file_extension": ".py",
   "mimetype": "text/x-python",
   "name": "python",
   "nbconvert_exporter": "python",
   "pygments_lexer": "ipython3",
   "version": "3.9.15"
  }
 },
 "nbformat": 4,
 "nbformat_minor": 5
}
