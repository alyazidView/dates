{
 "cells": [
  {
   "cell_type": "code",
   "execution_count": 12,
   "id": "c1fb4831",
   "metadata": {},
   "outputs": [],
   "source": [
    "import warnings\n",
    "warnings.filterwarnings('ignore')\n",
    "import tensorflow as tf\n",
    "from tensorflow.keras.optimizers import Adam\n",
    "from tensorflow.keras.preprocessing.image import ImageDataGenerator\n",
    "from tensorflow.keras.layers import Conv2D, MaxPooling2D, Flatten, Dense, Dropout\n",
    "from tensorflow.keras.models import Sequential\n",
    "from tensorflow.keras.callbacks import EarlyStopping, ModelCheckpoint\n",
    "import matplotlib.pyplot as plt\n",
    "import numpy as np\n",
    "import os\n",
    "import random\n",
    "from shutil import copyfile"
   ]
  },
  {
   "cell_type": "code",
   "execution_count": 2,
   "id": "7b3ca529",
   "metadata": {},
   "outputs": [
    {
     "name": "stdout",
     "output_type": "stream",
     "text": [
      "[name: \"/device:CPU:0\"\n",
      "device_type: \"CPU\"\n",
      "memory_limit: 268435456\n",
      "locality {\n",
      "}\n",
      "incarnation: 162292076473181741\n",
      "xla_global_id: -1\n",
      ", name: \"/device:GPU:0\"\n",
      "device_type: \"GPU\"\n",
      "memory_limit: 10067378176\n",
      "locality {\n",
      "  bus_id: 1\n",
      "  links {\n",
      "  }\n",
      "}\n",
      "incarnation: 1570472876514648103\n",
      "physical_device_desc: \"device: 0, name: NVIDIA GeForce RTX 3060, pci bus id: 0000:13:00.0, compute capability: 8.6\"\n",
      "xla_global_id: 416903419\n",
      "]\n",
      "2.10.1\n"
     ]
    }
   ],
   "source": [
    "# Avoid OOM errors by setting GPU Memory Consumption Growth\n",
    "gpus = tf.config.experimental.list_physical_devices('GPU')\n",
    "for gpu in gpus: \n",
    "    tf.config.experimental.set_memory_growth(gpu, True)\n",
    "tf.config.list_physical_devices('GPU')\n",
    "print(device_lib.list_local_devices())\n",
    "print(tf. __version__) "
   ]
  },
  {
   "cell_type": "code",
   "execution_count": null,
   "id": "84b4f363",
   "metadata": {
    "scrolled": true
   },
   "outputs": [],
   "source": [
    "# Get all the paths\n",
    "data_dir_list = os.listdir('../data')\n",
    "print(data_dir_list)\n",
    "path, dirs, files = next(os.walk(\"../data\"))\n",
    "file_count = len(files)\n",
    "# print(file_count)"
   ]
  },
  {
   "cell_type": "markdown",
   "id": "c6a080c6",
   "metadata": {},
   "source": [
    "## Creating Directories"
   ]
  },
  {
   "cell_type": "code",
   "execution_count": null,
   "id": "616edeec",
   "metadata": {},
   "outputs": [],
   "source": [
    "# Make new base directory\n",
    "original_dataset_dir = '../data'\n",
    "base_dir = '../data/model/'\n",
    "os.mkdir(base_dir)"
   ]
  },
  {
   "cell_type": "code",
   "execution_count": null,
   "id": "08b232f5",
   "metadata": {},
   "outputs": [],
   "source": [
    "#create two folders (train and validation)\n",
    "train_dir = os.path.join(base_dir, 'train')\n",
    "os.mkdir(train_dir)\n",
    "\n",
    "validation_dir = os.path.join(base_dir, 'validation')\n",
    "os.mkdir(validation_dir)"
   ]
  },
  {
   "cell_type": "code",
   "execution_count": null,
   "id": "86d1a265",
   "metadata": {},
   "outputs": [],
   "source": [
    "#Under train folder create nine folders \n",
    "\n",
    "train_ajwa_dir = os.path.join(train_dir, 'ajwa')\n",
    "os.mkdir(train_ajwa_dir)\n",
    "\n",
    "train_galaxy_dir = os.path.join(train_dir, 'galaxy')\n",
    "os.mkdir(train_galaxy_dir)\n",
    "\n",
    "train_mejdool_dir = os.path.join(train_dir, 'medjool')\n",
    "os.mkdir(train_mejdool_dir)\n",
    "\n",
    "train_meneifi_dir = os.path.join(train_dir, 'meneifi')\n",
    "os.mkdir(train_meneifi_dir)\n",
    "\n",
    "train_nabatAli_dir = os.path.join(train_dir, 'nabtatAli')\n",
    "os.mkdir(train_nabatAli_dir)\n",
    "\n",
    "train_rutab_dir = os.path.join(train_dir, 'rutab')\n",
    "os.mkdir(train_rutab_dir)\n",
    "\n",
    "train_shaishe_dir = os.path.join(train_dir, 'shaishe')\n",
    "os.mkdir(train_shaishe_dir)\n",
    "\n",
    "train_sokari_dir = os.path.join(train_dir, 'sokari')\n",
    "os.mkdir(train_sokari_dir)\n",
    "\n",
    "train_sugaey_dir = os.path.join(train_dir, 'sugaey')\n",
    "os.mkdir(train_sugaey_dir)\n"
   ]
  },
  {
   "cell_type": "code",
   "execution_count": null,
   "id": "1b5c0848",
   "metadata": {},
   "outputs": [],
   "source": [
    "#Under validation folder create nine folders\n",
    "\n",
    "validation_ajwa_dir = os.path.join(validation_dir, 'ajwa')\n",
    "os.mkdir(validation_ajwa_dir)\n",
    "\n",
    "validation_galaxy_dir = os.path.join(validation_dir, 'galaxy')\n",
    "os.mkdir(validation_galaxy_dir)\n",
    "\n",
    "validation_mejdool_dir = os.path.join(validation_dir, 'medjool')\n",
    "os.mkdir(validation_mejdool_dir)\n",
    "\n",
    "validation_meneifi_dir = os.path.join(validation_dir, 'meneifi')\n",
    "os.mkdir(validation_meneifi_dir)\n",
    "\n",
    "validation_nabatAli_dir = os.path.join(validation_dir, 'nabtatAli')\n",
    "os.mkdir(validation_nabatAli_dir)\n",
    "\n",
    "validation_rutab_dir = os.path.join(validation_dir, 'rutab')\n",
    "os.mkdir(validation_rutab_dir)\n",
    "\n",
    "validation_shaishe_dir = os.path.join(validation_dir, 'shaishe')\n",
    "os.mkdir(validation_shaishe_dir)\n",
    "\n",
    "validation_sokari_dir = os.path.join(validation_dir, 'sokari')\n",
    "os.mkdir(validation_sokari_dir)\n",
    "\n",
    "validation_sugaey_dir = os.path.join(validation_dir, 'sugaey')\n",
    "os.mkdir(validation_sugaey_dir)\n"
   ]
  },
  {
   "cell_type": "markdown",
   "id": "159aa132",
   "metadata": {},
   "source": [
    "## Splitting the Data"
   ]
  },
  {
   "cell_type": "code",
   "execution_count": null,
   "id": "02d97dc2",
   "metadata": {},
   "outputs": [],
   "source": [
    "def split_data(SOURCE, TRAINING, VALIDATION, SPLIT_SIZE):\n",
    "    files = []\n",
    "    for filename in os.listdir(SOURCE):\n",
    "        file = SOURCE + filename\n",
    "        if os.path.getsize(file) > 0:\n",
    "            files.append(filename)\n",
    "        else:\n",
    "            print(filename + \" is zero length, so ignoring.\")\n",
    "\n",
    "    training_length = int(len(files) * SPLIT_SIZE)\n",
    "    valid_length = int(len(files) - training_length)\n",
    "    shuffled_set = random.sample(files, len(files))\n",
    "    training_set = shuffled_set[0:training_length]\n",
    "    valid_set = shuffled_set[training_length:]\n",
    "\n",
    "    for filename in training_set:\n",
    "        this_file = SOURCE + filename\n",
    "        destination = TRAINING + filename\n",
    "        copyfile(this_file, destination)\n",
    "\n",
    "    for filename in valid_set:\n",
    "        this_file = SOURCE + filename\n",
    "        destination = VALIDATION + filename\n",
    "        copyfile(this_file, destination)"
   ]
  },
  {
   "cell_type": "code",
   "execution_count": null,
   "id": "1549aca8",
   "metadata": {},
   "outputs": [],
   "source": [
    "ajwa_SOURCE_DIR = '../data/ajwa/'\n",
    "TRAINING_ajwa_DIR = '../data/model/train/ajwa/'\n",
    "VALID_ajwa_DIR = '../data/model/validation/ajwa/'\n",
    "\n",
    "galaxy_SOURCE_DIR = '../data/galaxy/'\n",
    "TRAINING_galaxy_DIR = '../data/model/train/galaxy/'\n",
    "VALID_galaxy_DIR = '../data/model/validation/galaxy/'\n",
    "\n",
    "medjool_SOURCE_DIR = '../data/medjool/'\n",
    "TRAINING_medjool_DIR = '../data/model/train/medjool/'\n",
    "VALID_medjool_DIR = '../data/model/validation/medjool/'\n",
    "\n",
    "meneifi_SOURCE_DIR = '../data/meneifi/'\n",
    "TRAINING_meneifi_DIR = '../data/model/train/meneifi/'\n",
    "VALID_meneifi_DIR = '../data/model/validation/meneifi/'\n",
    "\n",
    "nabtatAli_SOURCE_DIR = '../data/nabtatAli/'\n",
    "TRAINING_nabtatAli_DIR = '../data/model/train/nabtatAli/'\n",
    "VALID_nabtatAli_DIR = '../data/model/validation/nabtatAli/'\n",
    "\n",
    "rutab_SOURCE_DIR = '../data/rutab/'\n",
    "TRAINING_rutab_DIR = '../data/model/train/rutab/'\n",
    "VALID_rutab_DIR = '../data/model/validation/rutab/'\n",
    "\n",
    "shaishe_SOURCE_DIR = '../data/shaishe/'\n",
    "TRAINING_shaishe_DIR = '../data/model/train/shaishe/'\n",
    "VALID_shaishe_DIR = '../data/model/validation/shaishe/'\n",
    "\n",
    "sokari_SOURCE_DIR = '../data/sokari/'\n",
    "TRAINING_sokari_DIR = '../data/model/train/sokari/'\n",
    "VALID_sokari_DIR = '../data/model/validation/sokari/'\n",
    "\n",
    "sugaey_SOURCE_DIR = '../data/sugaey/'\n",
    "TRAINING_sugaey_DIR = '../data/model/train/sugaey/'\n",
    "VALID_sugaey_DIR = '../data/model/validation/sugaey/'\n"
   ]
  },
  {
   "cell_type": "code",
   "execution_count": null,
   "id": "fc8ca57d",
   "metadata": {},
   "outputs": [],
   "source": [
    "\n",
    "\n",
    "split_size = .80\n",
    "\n",
    "split_data(ajwa_SOURCE_DIR, TRAINING_ajwa_DIR, VALID_ajwa_DIR, split_size)\n",
    "split_data(galaxy_SOURCE_DIR, TRAINING_galaxy_DIR, VALID_galaxy_DIR, split_size)\n",
    "split_data(medjool_SOURCE_DIR, TRAINING_medjool_DIR, VALID_medjool_DIR, split_size)\n",
    "split_data(meneifi_SOURCE_DIR, TRAINING_meneifi_DIR, VALID_meneifi_DIR, split_size)\n",
    "split_data(nabtatAli_SOURCE_DIR, TRAINING_nabtatAli_DIR, VALID_nabtatAli_DIR, split_size)\n",
    "split_data(rutab_SOURCE_DIR, TRAINING_rutab_DIR, VALID_rutab_DIR, split_size)\n",
    "split_data(shaishe_SOURCE_DIR, TRAINING_shaishe_DIR, VALID_shaishe_DIR, split_size)\n",
    "split_data(sokari_SOURCE_DIR, TRAINING_sokari_DIR, VALID_sokari_DIR, split_size)\n",
    "split_data(sugaey_SOURCE_DIR, TRAINING_sugaey_DIR, VALID_sugaey_DIR, split_size)\n",
    "\n"
   ]
  },
  {
   "cell_type": "markdown",
   "id": "253f1d56",
   "metadata": {},
   "source": [
    "## Explore"
   ]
  },
  {
   "cell_type": "code",
   "execution_count": null,
   "id": "12e0ec96",
   "metadata": {},
   "outputs": [],
   "source": []
  },
  {
   "cell_type": "markdown",
   "id": "63171eef",
   "metadata": {},
   "source": [
    "## Model"
   ]
  },
  {
   "cell_type": "code",
   "execution_count": null,
   "id": "079c6442",
   "metadata": {},
   "outputs": [],
   "source": []
  },
  {
   "cell_type": "code",
   "execution_count": 3,
   "id": "1408f014",
   "metadata": {},
   "outputs": [],
   "source": [
    "img_width=256; img_height=256\n",
    "batch_size=16"
   ]
  },
  {
   "cell_type": "code",
   "execution_count": 4,
   "id": "5f119de1",
   "metadata": {},
   "outputs": [
    {
     "name": "stdout",
     "output_type": "stream",
     "text": [
      "Found 1323 images belonging to 9 classes.\n"
     ]
    }
   ],
   "source": [
    "TRAINING_DIR = '../data/model/train/'\n",
    "\n",
    "train_datagen = ImageDataGenerator(rescale = 1/255.0,\n",
    "                                   rotation_range=30,\n",
    "                                   zoom_range=0.4,\n",
    "                                   horizontal_flip=True)\n",
    "\n",
    "train_generator = train_datagen.flow_from_directory(TRAINING_DIR,\n",
    "                                                    batch_size=batch_size,\n",
    "                                                    class_mode='categorical',\n",
    "                                                    target_size=(img_height, img_width))"
   ]
  },
  {
   "cell_type": "code",
   "execution_count": 5,
   "id": "11fb164d",
   "metadata": {},
   "outputs": [
    {
     "name": "stdout",
     "output_type": "stream",
     "text": [
      "Found 335 images belonging to 9 classes.\n"
     ]
    }
   ],
   "source": [
    "\n",
    "VALIDATION_DIR = '../data/model/validation/'\n",
    "\n",
    "validation_datagen = ImageDataGenerator(rescale = 1/255.0)\n",
    "\n",
    "validation_generator = validation_datagen.flow_from_directory(VALIDATION_DIR,\n",
    "                                                              batch_size=batch_size,\n",
    "                                                              class_mode='categorical',\n",
    "                                                              target_size=(img_height, img_width)\n",
    "                                                             )\n",
    "     "
   ]
  },
  {
   "cell_type": "code",
   "execution_count": 6,
   "id": "68f6d8f1",
   "metadata": {},
   "outputs": [],
   "source": [
    "callbacks = EarlyStopping(monitor='val_loss', patience=5, verbose=1, mode='auto')\n",
    "# autosave best Model\n",
    "best_model_file = '/content/CNN_aug_best_weights.h5'\n",
    "best_model = ModelCheckpoint(best_model_file, monitor='val_acc', verbose = 1, save_best_only = True)"
   ]
  },
  {
   "cell_type": "code",
   "execution_count": 7,
   "id": "69d8846b",
   "metadata": {},
   "outputs": [
    {
     "name": "stdout",
     "output_type": "stream",
     "text": [
      "Model: \"sequential\"\n",
      "_________________________________________________________________\n",
      " Layer (type)                Output Shape              Param #   \n",
      "=================================================================\n",
      " conv2d (Conv2D)             (None, 254, 254, 16)      448       \n",
      "                                                                 \n",
      " max_pooling2d (MaxPooling2D  (None, 127, 127, 16)     0         \n",
      " )                                                               \n",
      "                                                                 \n",
      " conv2d_1 (Conv2D)           (None, 125, 125, 32)      4640      \n",
      "                                                                 \n",
      " max_pooling2d_1 (MaxPooling  (None, 62, 62, 32)       0         \n",
      " 2D)                                                             \n",
      "                                                                 \n",
      " conv2d_2 (Conv2D)           (None, 60, 60, 64)        18496     \n",
      "                                                                 \n",
      " conv2d_3 (Conv2D)           (None, 58, 58, 64)        36928     \n",
      "                                                                 \n",
      " max_pooling2d_2 (MaxPooling  (None, 29, 29, 64)       0         \n",
      " 2D)                                                             \n",
      "                                                                 \n",
      " conv2d_4 (Conv2D)           (None, 27, 27, 128)       73856     \n",
      "                                                                 \n",
      " conv2d_5 (Conv2D)           (None, 25, 25, 128)       147584    \n",
      "                                                                 \n",
      " max_pooling2d_3 (MaxPooling  (None, 12, 12, 128)      0         \n",
      " 2D)                                                             \n",
      "                                                                 \n",
      " conv2d_6 (Conv2D)           (None, 10, 10, 256)       295168    \n",
      "                                                                 \n",
      " conv2d_7 (Conv2D)           (None, 8, 8, 256)         590080    \n",
      "                                                                 \n",
      " conv2d_8 (Conv2D)           (None, 6, 6, 256)         590080    \n",
      "                                                                 \n",
      " max_pooling2d_4 (MaxPooling  (None, 3, 3, 256)        0         \n",
      " 2D)                                                             \n",
      "                                                                 \n",
      " flatten (Flatten)           (None, 2304)              0         \n",
      "                                                                 \n",
      " dense (Dense)               (None, 512)               1180160   \n",
      "                                                                 \n",
      " dense_1 (Dense)             (None, 512)               262656    \n",
      "                                                                 \n",
      " dense_2 (Dense)             (None, 9)                 4617      \n",
      "                                                                 \n",
      "=================================================================\n",
      "Total params: 3,204,713\n",
      "Trainable params: 3,204,713\n",
      "Non-trainable params: 0\n",
      "_________________________________________________________________\n"
     ]
    }
   ],
   "source": [
    "model = Sequential([\n",
    "    Conv2D(16, (3, 3), activation='relu', input_shape=(img_height, img_width, 3)), MaxPooling2D(2, 2),\n",
    "    Conv2D(32, (3, 3), activation='relu'), MaxPooling2D(2, 2),\n",
    "    Conv2D(64, (3, 3), activation='relu'),\n",
    "    Conv2D(64, (3, 3), activation='relu'),\n",
    "    MaxPooling2D(2, 2),\n",
    "    Conv2D(128, (3, 3), activation='relu'),\n",
    "    Conv2D(128, (3, 3), activation='relu'),\n",
    "    MaxPooling2D(2, 2),\n",
    "    Conv2D(256, (3, 3), activation='relu'),\n",
    "    Conv2D(256, (3, 3), activation='relu'),\n",
    "    Conv2D(256, (3, 3), activation='relu'),\n",
    "    MaxPooling2D(2, 2),\n",
    "    Flatten(),\n",
    "    Dense(512, activation='relu'),\n",
    "    Dense(512, activation='relu'),\n",
    "    Dense(9, activation='softmax')\n",
    "])"
   ]
  },
  {
   "cell_type": "code",
   "execution_count": null,
   "id": "c0effa06",
   "metadata": {},
   "outputs": [],
   "source": [
    "model.summary()"
   ]
  },
  {
   "cell_type": "code",
   "execution_count": 8,
   "id": "9ffb9bad",
   "metadata": {},
   "outputs": [],
   "source": [
    "model.compile(optimizer='Adam', \n",
    "              loss='categorical_crossentropy', \n",
    "              metrics =['accuracy'])"
   ]
  },
  {
   "cell_type": "markdown",
   "id": "92591ff2",
   "metadata": {},
   "source": [
    "## Train"
   ]
  },
  {
   "cell_type": "code",
   "execution_count": null,
   "id": "d198f673",
   "metadata": {},
   "outputs": [
    {
     "name": "stdout",
     "output_type": "stream",
     "text": [
      "Epoch 1/100\n",
      "83/83 [==============================] - ETA: 0s - loss: 0.3417 - accuracy: 0.8753WARNING:tensorflow:Can save best model only with val_acc available, skipping.\n",
      "83/83 [==============================] - 168s 2s/step - loss: 0.3417 - accuracy: 0.8753 - val_loss: 0.5097 - val_accuracy: 0.8358\n",
      "Epoch 2/100\n",
      "83/83 [==============================] - ETA: 0s - loss: 0.3407 - accuracy: 0.8851WARNING:tensorflow:Can save best model only with val_acc available, skipping.\n",
      "83/83 [==============================] - 162s 2s/step - loss: 0.3407 - accuracy: 0.8851 - val_loss: 1.1566 - val_accuracy: 0.7134\n",
      "Epoch 3/100\n",
      "83/83 [==============================] - ETA: 0s - loss: 0.3060 - accuracy: 0.8942WARNING:tensorflow:Can save best model only with val_acc available, skipping.\n",
      "83/83 [==============================] - 162s 2s/step - loss: 0.3060 - accuracy: 0.8942 - val_loss: 0.6645 - val_accuracy: 0.7970\n",
      "Epoch 4/100\n",
      "83/83 [==============================] - ETA: 0s - loss: 0.3753 - accuracy: 0.8662WARNING:tensorflow:Can save best model only with val_acc available, skipping.\n",
      "83/83 [==============================] - 162s 2s/step - loss: 0.3753 - accuracy: 0.8662 - val_loss: 0.5540 - val_accuracy: 0.8239\n",
      "Epoch 5/100\n",
      "83/83 [==============================] - ETA: 0s - loss: 0.3615 - accuracy: 0.8677WARNING:tensorflow:Can save best model only with val_acc available, skipping.\n",
      "83/83 [==============================] - 163s 2s/step - loss: 0.3615 - accuracy: 0.8677 - val_loss: 0.6540 - val_accuracy: 0.7940\n",
      "Epoch 6/100\n",
      "83/83 [==============================] - ETA: 0s - loss: 0.3647 - accuracy: 0.8753WARNING:tensorflow:Can save best model only with val_acc available, skipping.\n",
      "83/83 [==============================] - 166s 2s/step - loss: 0.3647 - accuracy: 0.8753 - val_loss: 0.5267 - val_accuracy: 0.8030\n",
      "Epoch 7/100\n",
      "83/83 [==============================] - ETA: 0s - loss: 0.2978 - accuracy: 0.8972WARNING:tensorflow:Can save best model only with val_acc available, skipping.\n",
      "83/83 [==============================] - 165s 2s/step - loss: 0.2978 - accuracy: 0.8972 - val_loss: 0.5499 - val_accuracy: 0.8299\n",
      "Epoch 8/100\n",
      "83/83 [==============================] - ETA: 0s - loss: 0.3541 - accuracy: 0.8670WARNING:tensorflow:Can save best model only with val_acc available, skipping.\n",
      "83/83 [==============================] - 165s 2s/step - loss: 0.3541 - accuracy: 0.8670 - val_loss: 0.7190 - val_accuracy: 0.7761\n",
      "Epoch 9/100\n",
      "83/83 [==============================] - ETA: 0s - loss: 0.3208 - accuracy: 0.8896WARNING:tensorflow:Can save best model only with val_acc available, skipping.\n",
      "83/83 [==============================] - 163s 2s/step - loss: 0.3208 - accuracy: 0.8896 - val_loss: 0.4711 - val_accuracy: 0.8269\n",
      "Epoch 10/100\n",
      "83/83 [==============================] - ETA: 0s - loss: 0.3550 - accuracy: 0.8745WARNING:tensorflow:Can save best model only with val_acc available, skipping.\n",
      "83/83 [==============================] - 161s 2s/step - loss: 0.3550 - accuracy: 0.8745 - val_loss: 0.5900 - val_accuracy: 0.8060\n",
      "Epoch 11/100\n",
      "83/83 [==============================] - ETA: 0s - loss: 0.3004 - accuracy: 0.8980WARNING:tensorflow:Can save best model only with val_acc available, skipping.\n",
      "83/83 [==============================] - 161s 2s/step - loss: 0.3004 - accuracy: 0.8980 - val_loss: 0.7192 - val_accuracy: 0.7881\n",
      "Epoch 12/100\n",
      "83/83 [==============================] - ETA: 0s - loss: 0.4557 - accuracy: 0.8519WARNING:tensorflow:Can save best model only with val_acc available, skipping.\n",
      "83/83 [==============================] - 160s 2s/step - loss: 0.4557 - accuracy: 0.8519 - val_loss: 0.4835 - val_accuracy: 0.8537\n",
      "Epoch 13/100\n",
      "69/83 [=======================>......] - ETA: 21s - loss: 0.2957 - accuracy: 0.8908"
     ]
    }
   ],
   "source": [
    "history = model.fit(train_generator,\n",
    "                    epochs=100,\n",
    "                    validation_data=validation_generator,\n",
    "                    callbacks = [best_model]\n",
    "                    )"
   ]
  },
  {
   "cell_type": "code",
   "execution_count": 13,
   "id": "fa464d12",
   "metadata": {},
   "outputs": [],
   "source": [
    "model.save('date_model.h5')"
   ]
  },
  {
   "cell_type": "code",
   "execution_count": null,
   "id": "e868c847",
   "metadata": {},
   "outputs": [],
   "source": []
  }
 ],
 "metadata": {
  "kernelspec": {
   "display_name": "Python 3 (ipykernel)",
   "language": "python",
   "name": "python3"
  },
  "language_info": {
   "codemirror_mode": {
    "name": "ipython",
    "version": 3
   },
   "file_extension": ".py",
   "mimetype": "text/x-python",
   "name": "python",
   "nbconvert_exporter": "python",
   "pygments_lexer": "ipython3",
   "version": "3.9.15"
  }
 },
 "nbformat": 4,
 "nbformat_minor": 5
}
